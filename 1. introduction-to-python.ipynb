{
 "cells": [
  {
   "cell_type": "markdown",
   "metadata": {},
   "source": [
    "<h1 style=\"color: #4CAF50; font-family: Arial, sans-serif; text-align: center;\">🌟 Introduction to Python 🌟</h1>\n",
    "\n",
    "<hr style=\"border: 1px solid #4CAF50;\">\n",
    "\n",
    "<p style=\"font-size: 18px; line-height: 1.6;\">\n",
    "Welcome to <b>Python Basics</b>! Python is one of the most popular programming languages in the world. It is widely used in <i>web development</i>, <i>data science</i>, <i>machine learning</i>, <i>automation</i>, and more.\n",
    "</p>\n",
    "\n",
    "<p style=\"font-size: 16px;\">\n",
    "In this guide, you'll learn the fundamentals of Python in a simple and interactive way. Let's begin our journey into the world of Python! 🚀\n",
    "</p>\n"
   ]
  },
  {
   "cell_type": "markdown",
   "metadata": {},
   "source": [
    "<h2 style=\"color: #FF5722; font-family: Arial, sans-serif;\">🔍 What is Python?</h2>\n",
    "\n",
    "<ul style=\"font-size: 16px; line-height: 1.8;\">\n",
    "    <li><b>Python</b> is an <a href=\"https://en.wikipedia.org/wiki/High-level_programming_language\" target=\"_blank\" style=\"color: #2196F3;\">interpreted</a> and <a href=\"https://en.wikipedia.org/wiki/High-level_programming_language\" target=\"_blank\" style=\"color: #2196F3;\">high-level programming language</a>.</li>\n",
    "    <li>It is known for its <b>simple syntax</b>, which makes it beginner-friendly.</li>\n",
    "    <li>Python was created by <b>Guido van Rossum</b> and first released in 1991.</li>\n",
    "    <li>It is a <a href=\"https://en.wikipedia.org/wiki/Dynamically_typed_programming_language\" target=\"_blank\" style=\"color: #2196F3;\">dynamically typed programming</a> language, meaning you don’t have to declare the data type of variables explicitly.</li>\n",
    "</ul>\n"
   ]
  },
  {
   "cell_type": "markdown",
   "metadata": {},
   "source": [
    "<h2 style=\"color: #3F51B5; font-family: Arial, sans-serif;\">✨ Why Learn Python?</h2>\n",
    "\n",
    "<ol style=\"font-size: 16px; line-height: 1.8;\">\n",
    "    <li>Python is <b>easy to learn</b>, making it perfect for beginners.</li>\n",
    "    <li>It is <b>versatile</b> and can be used in:\n",
    "        <ul style=\"margin-left: 20px;\">\n",
    "            <li>Web Development</li>\n",
    "            <li>Data Analysis</li>\n",
    "            <li>Game Development</li>\n",
    "            <li>Artificial Intelligence</li>\n",
    "        </ul>\n",
    "    </li>\n",
    "    <li>It has a large and <b>supportive community</b>, so help is always available.</li>\n",
    "    <li>Thousands of <b>libraries</b> make Python suitable for almost any task.</li>\n",
    "</ol>\n"
   ]
  },
  {
   "cell_type": "markdown",
   "metadata": {},
   "source": [
    "<h2 style=\"color: #009688; font-family: Arial, sans-serif;\">🚀 Features of Python</h2>\n",
    "\n",
    "<table style=\"border: 1px solid #ddd; border-collapse: collapse; width: 100%; text-align: left; font-size: 16px;\">\n",
    "    <thead>\n",
    "        <tr style=\"background-color: #f2f2f2;\">\n",
    "            <th style=\"border: 1px solid #ddd; padding: 8px; color: #000;\">Feature</th>\n",
    "            <th style=\"border: 1px solid #ddd; padding: 8px; color: #000;\">Description</th>\n",
    "        </tr>\n",
    "    </thead>\n",
    "    <tbody>\n",
    "        <tr>\n",
    "            <td style=\"border: 1px solid #ddd; padding: 8px;\">Easy to Learn</td>\n",
    "            <td style=\"border: 1px solid #ddd; padding: 8px;\">Python's syntax is simple and resembles English.</td>\n",
    "        </tr>\n",
    "        <tr>\n",
    "            <td style=\"border: 1px solid #ddd; padding: 8px;\">Interpreted</td>\n",
    "            <td style=\"border: 1px solid #ddd; padding: 8px;\">Python code is executed line by line, making debugging easier. (<a href=\"https://en.wikipedia.org/wiki/Interpreter_(computing)\" target=\"_blank\" style=\"color: #2196F3;\">Learn More</a>)</td>\n",
    "        </tr>\n",
    "        <tr>\n",
    "            <td style=\"border: 1px solid #ddd; padding: 8px;\">Open Source</td>\n",
    "            <td style=\"border: 1px solid #ddd; padding: 8px;\">Python is free to use and distribute, even for commercial purposes.</td>\n",
    "        </tr>\n",
    "        <tr>\n",
    "            <td style=\"border: 1px solid #ddd; padding: 8px;\">Cross-Platform</td>\n",
    "            <td style=\"border: 1px solid #ddd; padding: 8px;\">Python works on Windows, Mac, Linux, and more.</td>\n",
    "        </tr>\n",
    "    </tbody>\n",
    "</table>\n"
   ]
  },
  {
   "cell_type": "markdown",
   "metadata": {},
   "source": [
    "<h2 style=\"color: #673AB7; font-family: Arial, sans-serif;\">👨‍💻 Prerequisites</h2>\n",
    "\n",
    "<p style=\"font-size: 16px; line-height: 1.6;\">\n",
    "The best part about learning Python is that you don’t need prior programming knowledge! All you need is:\n",
    "</p>\n",
    "\n",
    "<ul style=\"font-size: 16px; line-height: 1.8;\">\n",
    "    <li>A computer with Python installed. (<a href=\"https://www.python.org/downloads/\" target=\"_blank\" style=\"color: #2196F3;\">Download Python</a>)</li>\n",
    "    <li>A text editor or IDE like <b>VS Code</b> or <b>Jupyter Notebook</b>.</li>\n",
    "    <li>A curious mind and willingness to learn! 😊</li>\n",
    "</ul>\n"
   ]
  },
  {
   "cell_type": "markdown",
   "metadata": {},
   "source": [
    "<h2 style=\"color: #795548; font-family: Arial, sans-serif; text-align: center;\">🌈 Ready to Dive In?</h2>\n",
    "\n",
    "<p style=\"font-size: 16px; line-height: 1.6; text-align: center;\">\n",
    "Now that you've learned what Python is and why it's awesome, let's get started with the basics! Head to the next section to set up Python and write your first program. 🚀\n",
    "</p>\n",
    "\n",
    "<p style=\"text-align: center; font-size: 16px; margin-top: 20px;\">\n",
    "<a href=\"first-py-program.ipynb\" target=\"_blank\" style=\"color: #2196F3; text-decoration: none; font-weight: bold; font-size: 18px;\">\n",
    "👉 Go to: First Python Program.ipynb\n",
    "</a>\n",
    "</p>\n"
   ]
  }
 ],
 "metadata": {
  "language_info": {
   "name": "python"
  }
 },
 "nbformat": 4,
 "nbformat_minor": 2
}
