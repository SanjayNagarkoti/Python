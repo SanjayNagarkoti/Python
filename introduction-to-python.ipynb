{
 "cells": [
  {
   "cell_type": "markdown",
   "metadata": {},
   "source": [
    "<h1 style=\"text-align: center; color: #2E86C1;\">Introduction to Python</h1>\n"
   ]
  },
  {
   "cell_type": "markdown",
   "metadata": {},
   "source": [
    "<h2 style=\"color: #117A65;\">What is Python?</h2>\n",
    "\n",
    "<p style=\"font-size:18px;\">Python is a high-level, <a href=\"https://en.wikipedia.org/wiki/Interpreter_(computing)\" target=\"_blank\">interpreted</a>, and <a href=\"https://en.wikipedia.org/wiki/Dynamic_programming_language\" target=\"_blank\">dynamically typed</a> programming language. It was created by <strong>Guido van Rossum</strong> and released in <strong>1991</strong>. Python emphasizes <strong>readability</strong>, using simple and clean syntax that makes it an excellent choice for beginners and professionals alike.</p>\n",
    "\n",
    "\n"
   ]
  },
  {
   "cell_type": "markdown",
   "metadata": {},
   "source": [
    "<h2>Key Features of Python</h2>\n",
    "\n",
    "<ul>\n",
    "  <li><strong>Easy to Learn</strong>: Python's syntax is straightforward and resembles natural language.</li>\n",
    "  <li><strong>Versatile</strong>: Used for <a href=\"https://en.wikipedia.org/wiki/Web_development\" target=\"_blank\">web development</a>, <a href=\"https://en.wikipedia.org/wiki/Data_analysis\" target=\"_blank\">data analysis</a>, <a href=\"https://en.wikipedia.org/wiki/Machine_learning\" target=\"_blank\">machine learning</a>, automation, and more.</li>\n",
    "  <li><strong>Open Source</strong>: Free to use, modify, and distribute.</li>\n",
    "  <li><strong>Cross-Platform</strong>: Works on Windows, macOS, and Linux.</li>\n",
    "  <li><strong>Rich Library Support</strong>: Offers libraries like <code>numpy</code>, <code>pandas</code>, and <code>matplotlib</code>.</li>\n",
    "</ul>\n"
   ]
  }
 ],
 "metadata": {
  "language_info": {
   "name": "python"
  }
 },
 "nbformat": 4,
 "nbformat_minor": 2
}
