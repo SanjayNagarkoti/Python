{
 "cells": [
  {
   "cell_type": "markdown",
   "metadata": {},
   "source": [
    "<h1 style=\"color: #3F51B5; font-family: Arial, sans-serif; text-align: center;\">🔍 Python Basics</h1>\n",
    "\n",
    "<hr style=\"border: 1px solid #3F51B5;\">\n",
    "\n",
    "<p style=\"font-size: 18px; line-height: 1.6;\">\n",
    "Welcome to the next step in your Python journey! In this notebook, we will cover the fundamentals of Python programming, including:\n",
    "</p>\n",
    "\n",
    "<ul style=\"font-size: 16px; line-height: 1.8;\">\n",
    "    <li>Variables and Data Types</li>\n",
    "    <li>Basic Input and Output</li>\n",
    "    <li>Operators</li>\n",
    "    <li>Indentation and Comments</li>\n",
    "</ul>\n",
    "\n",
    "<p style=\"font-size: 16px;\">\n",
    "Let's begin with <b>variables</b>, the building blocks of any program. 🎉\n",
    "</p>\n"
   ]
  },
  {
   "cell_type": "markdown",
   "metadata": {},
   "source": [
    "<h2 style=\"color: #FF5722; font-family: Arial, sans-serif;\">🔑 Variables and Data Types</h2>\n",
    "\n",
    "<p style=\"font-size: 16px; line-height: 1.6;\">\n",
    "A <b>variable</b> is like a container for storing data values. In Python, you don't need to declare the type of a variable explicitly—Python figures it out for you based on the value you assign.\n",
    "</p>\n",
    "\n",
    "<p style=\"font-size: 16px;\">\n",
    "Here are some common <b>data types</b> in Python:\n",
    "</p>\n",
    "\n",
    "<ul style=\"font-size: 16px; line-height: 1.8;\">\n",
    "    <li><b>int</b>: Integer values, e.g., 1, 100</li>\n",
    "    <li><b>float</b>: Decimal numbers, e.g., 3.14, 2.0</li>\n",
    "    <li><b>str</b>: Text or string, e.g., \"Hello, Python!\"</li>\n",
    "    <li><b>bool</b>: Boolean values, i.e., <code>True</code> or <code>False</code></li>\n",
    "</ul>\n"
   ]
  },
  {
   "cell_type": "code",
   "execution_count": 1,
   "metadata": {},
   "outputs": [
    {
     "name": "stdout",
     "output_type": "stream",
     "text": [
      "Name: Alice\n",
      "Age: 25\n",
      "Height: 5.6\n",
      "Is Student: True\n"
     ]
    }
   ],
   "source": [
    "# Declaring variables in Python\n",
    "name = \"Alice\"  # string\n",
    "age = 25        # integer\n",
    "height = 5.6    # float\n",
    "is_student = True  # boolean\n",
    "\n",
    "# Display the variables\n",
    "print(\"Name:\", name)\n",
    "print(\"Age:\", age)\n",
    "print(\"Height:\", height)\n",
    "print(\"Is Student:\", is_student)\n"
   ]
  },
  {
   "cell_type": "markdown",
   "metadata": {},
   "source": [
    "<h2 style=\"color: #009688; font-family: Arial, sans-serif;\">⚡ Python is Dynamically Typed</h2>\n",
    "\n",
    "<p style=\"font-size: 16px; line-height: 1.6;\">\n",
    "In Python, you can change the data type of a variable by assigning a value of a different type. This flexibility is possible because Python is a <b>dynamically typed</b> programming language (<a href=\"https://en.wikipedia.org/wiki/Dynamic_programming_language\" target=\"_blank\" style=\"color: #2196F3;\">learn more</a>).\n",
    "</p>\n"
   ]
  },
  {
   "cell_type": "code",
   "execution_count": 2,
   "metadata": {},
   "outputs": [
    {
     "name": "stdout",
     "output_type": "stream",
     "text": [
      "Initially: 10 <class 'int'>\n",
      "After reassignment: Hello <class 'str'>\n",
      "Final value: 3.14 <class 'float'>\n"
     ]
    }
   ],
   "source": [
    "# Changing the type of a variable\n",
    "# here \"a\" is the variable name\n",
    "a = 10      # int\n",
    "print(\"Initially:\", a, type(a))\n",
    "\n",
    "a = \"Hello\"  # str\n",
    "print(\"After reassignment:\", a, type(a))\n",
    "\n",
    "a = 3.14    # float\n",
    "print(\"Final value:\", a, type(a))\n"
   ]
  },
  {
   "cell_type": "markdown",
   "metadata": {},
   "source": [
    "<h2 style=\"color: #FF9800; font-family: Arial, sans-serif;\">📥 Basic Input and Output</h2>\n",
    "\n",
    "<p style=\"font-size: 16px; line-height: 1.6;\">\n",
    "Python provides simple ways to take input from the user and display output using the <code>input()</code> and <code>print()</code> functions.\n",
    "</p>\n"
   ]
  },
  {
   "cell_type": "code",
   "execution_count": 3,
   "metadata": {},
   "outputs": [
    {
     "name": "stdout",
     "output_type": "stream",
     "text": [
      "Hello, hello! You are 12 years old.\n"
     ]
    }
   ],
   "source": [
    "# Taking user input\n",
    "name = input(\"Enter your name: \")\n",
    "age = input(\"Enter your age: \")\n",
    "\n",
    "# Displaying the input\n",
    "print(f\"Hello, {name}! You are {age} years old.\")\n"
   ]
  },
  {
   "cell_type": "markdown",
   "metadata": {},
   "source": [
    "<h2 style=\"color: #673AB7; font-family: Arial, sans-serif;\">➕ Operators in Python</h2>\n",
    "\n",
    "<p style=\"font-size: 16px; line-height: 1.6;\">\n",
    "Operators are symbols used to perform operations on variables and values. Python supports several types of operators:\n",
    "</p>\n",
    "\n",
    "<ul style=\"font-size: 16px; line-height: 1.8;\">\n",
    "    <li><b>Arithmetic Operators</b>: +, -, *, /, %, etc.</li>\n",
    "    <li><b>Comparison Operators</b>: ==, !=, >, <, >=, <=</li>\n",
    "    <li><b>Logical Operators</b>: and, or, not</li>\n",
    "</ul>\n"
   ]
  },
  {
   "cell_type": "code",
   "execution_count": null,
   "metadata": {},
   "outputs": [],
   "source": [
    "# Arithmetic Operators Example\n",
    "a = 10\n",
    "b = 3\n",
    "\n",
    "print(\"Addition:\", a + b)\n",
    "print(\"Subtraction:\", a - b)\n",
    "print(\"Multiplication:\", a * b)\n",
    "print(\"Division:\", a / b)\n",
    "print(\"Modulus:\", a % b)\n"
   ]
  }
 ],
 "metadata": {
  "kernelspec": {
   "display_name": "Python 3",
   "language": "python",
   "name": "python3"
  },
  "language_info": {
   "codemirror_mode": {
    "name": "ipython",
    "version": 3
   },
   "file_extension": ".py",
   "mimetype": "text/x-python",
   "name": "python",
   "nbconvert_exporter": "python",
   "pygments_lexer": "ipython3",
   "version": "3.12.4"
  }
 },
 "nbformat": 4,
 "nbformat_minor": 2
}
