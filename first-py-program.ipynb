{
 "cells": [
  {
   "cell_type": "markdown",
   "metadata": {},
   "source": [
    "<h1 style=\"color: #4CAF50; font-family: Arial, sans-serif; text-align: center;\">👨‍💻 Writing Your First Python Program in VS Code 👩‍💻</h1>\n",
    "\n",
    "<hr style=\"border: 1px solid #4CAF50;\">\n",
    "\n",
    "<p style=\"font-size: 18px; line-height: 1.6;\">\n",
    "In this guide, we will walk you through creating and running your first Python program using <b>Visual Studio Code (VS Code)</b>. We'll start by setting up the environment, writing a simple program, and troubleshooting common issues to ensure a smooth start to your Python journey.\n",
    "</p>\n",
    "\n",
    "<p style=\"font-size: 16px;\">\n",
    "Let's get started! 🚀\n",
    "</p>\n"
   ]
  },
  {
   "cell_type": "markdown",
   "metadata": {},
   "source": [
    "<h2 style=\"color: #FF5722; font-family: Arial, sans-serif;\">✅ Prerequisites</h2>\n",
    "\n",
    "<ul style=\"font-size: 16px; line-height: 1.8;\">\n",
    "    <li><b>Python Installed</b>: Ensure Python is installed on your computer. (<a href=\"https://www.python.org/downloads/\" target=\"_blank\" style=\"color: #2196F3;\">Download Python</a>)</li>\n",
    "    <li><b>VS Code Installed</b>: Download and install <a href=\"https://code.visualstudio.com/\" target=\"_blank\" style=\"color: #2196F3;\">Visual Studio Code</a>.</li>\n",
    "    <li><b>Python Extension for VS Code</b>: Install the <b>Python extension</b> in VS Code. (<a href=\"https://marketplace.visualstudio.com/items?itemName=ms-python.python\" target=\"_blank\" style=\"color: #2196F3;\">Get the Extension</a>)</li>\n",
    "    <li><b>Jupyter Extension</b>: Install the <b>Jupyter extension</b> for working with `.ipynb` files in VS Code. (<a href=\"https://marketplace.visualstudio.com/items?itemName=ms-toolsai.jupyter\" target=\"_blank\" style=\"color: #2196F3;\">Get the Extension</a>)</li>\n",
    "</ul>\n"
   ]
  },
  {
   "cell_type": "markdown",
   "metadata": {},
   "source": [
    "<h2 style=\"color: #3F51B5; font-family: Arial, sans-serif;\">⚙️ Setting Up VS Code for Python</h2>\n",
    "\n",
    "<p style=\"font-size: 16px; line-height: 1.6;\">\n",
    "Follow these steps to configure VS Code for running Python programs:\n",
    "</p>\n",
    "\n",
    "<ol style=\"font-size: 16px; line-height: 1.8;\">\n",
    "    <li>Open VS Code and navigate to <b>Extensions</b> (Ctrl+Shift+X).</li>\n",
    "    <li>Search for <b>Python</b> in the Extensions Marketplace and click <b>Install</b>.</li>\n",
    "    <li>Search for <b>Jupyter</b> in the Extensions Marketplace and click <b>Install</b>.</li>\n",
    "    <li>Restart VS Code to apply the changes.</li>\n",
    "    <li>Set Python as the default interpreter:\n",
    "        <ul>\n",
    "            <li>Press <b>Ctrl+Shift+P</b> to open the command palette.</li>\n",
    "            <li>Type <b>Python: Select Interpreter</b>.</li>\n",
    "            <li>Choose the correct Python interpreter (usually something like <i>Python 3.x</i>).</li>\n",
    "        </ul>\n",
    "    </li>\n",
    "</ol>\n"
   ]
  },
  {
   "cell_type": "markdown",
   "metadata": {},
   "source": [
    "<h2 style=\"color: #009688; font-family: Arial, sans-serif;\">📝 Writing Your First Program</h2>\n",
    "\n",
    "<p style=\"font-size: 16px; line-height: 1.6;\">\n",
    "Let's write your first Python program in an interactive notebook format:\n",
    "</p>\n",
    "\n",
    "<ol style=\"font-size: 16px; line-height: 1.8;\">\n",
    "    <li>Create a new file:\n",
    "        <ul>\n",
    "            <li>Go to <b>File → New File</b>.</li>\n",
    "            <li>Save the file as <b>first-py-program.ipynb</b>.</li>\n",
    "        </ul>\n",
    "    </li>\n",
    "    <li>Open the file in VS Code, and ensure the Jupyter notebook interface is active.</li>\n",
    "    <li>Add a new code cell and type the following code:\n",
    "    </li>\n",
    "</ol>\n"
   ]
  },
  {
   "cell_type": "code",
   "execution_count": 1,
   "metadata": {},
   "outputs": [
    {
     "name": "stdout",
     "output_type": "stream",
     "text": [
      "Hello, World!\n"
     ]
    }
   ],
   "source": [
    "print(\"Hello, World!\")\n",
    "\n",
    "# Press Shift+Enter to run this Code cell"
   ]
  },
  {
   "cell_type": "markdown",
   "metadata": {},
   "source": [
    "4. Run the cell:\n",
    "        <ul>\n",
    "            <li>Click the <b>Run</b> button (▶️) at the top of the cell.</li>\n",
    "            <li>You should see the output:\n",
    "                <pre style=\"background-color:rgb(5, 5, 5); padding: 10px; border-left: 3px solid #009688; font-size: 16px;\">\n",
    "Hello, World!\n",
    "                </pre>\n",
    "            </li>\n",
    "        </ul>\n",
    "    </li>"
   ]
  },
  {
   "cell_type": "markdown",
   "metadata": {},
   "source": [
    "<h2 style=\"color: #673AB7; font-family: Arial, sans-serif;\">🛠️ Common Issues and Fixes</h2>\n",
    "\n",
    "<p style=\"font-size: 16px; line-height: 1.6;\">\n",
    "Here are some common problems you might encounter and how to resolve them:\n",
    "</p>\n",
    "\n",
    "<ul style=\"font-size: 16px; line-height: 1.8;\">\n",
    "    <li><b>Python Not Installed Error</b>: Ensure Python is installed and added to the system PATH. Check this by running <code>python --version</code> in the terminal.</li>\n",
    "    <li><b>Interpreter Not Found</b>: Use <b>Ctrl+Shift+P</b> to select the correct Python interpreter.</li>\n",
    "    <li><b>No Output</b>: Ensure you've run the code cell by clicking the <b>Run</b> button or pressing <b>Shift+Enter</b>.</li>\n",
    "    <li><b>Extension Issues</b>: Reinstall the Python and Jupyter extensions if they don’t work as expected.</li>\n",
    "</ul>\n"
   ]
  },
  {
   "cell_type": "markdown",
   "metadata": {},
   "source": [
    "<h2 style=\"color: #FF9800; font-family: Arial, sans-serif;\">💡 Practice Exercise</h2>\n",
    "\n",
    "<p style=\"font-size: 16px; line-height: 1.6;\">\n",
    "Now that you've written your first program, try modifying it:\n",
    "</p>\n",
    "\n",
    "<ul style=\"font-size: 16px; line-height: 1.8;\">\n",
    "    <li>Change the message from <code>Hello, World!</code> to your own greeting, e.g., <code>Hello, [Your Name]!</code>.</li>\n",
    "    <li>Run the program again and observe the output.</li>\n",
    "</ul>\n",
    "\n",
    "<p style=\"font-size: 16px;\">\n",
    "Keep experimenting and enjoy coding! 🎉\n",
    "</p>\n"
   ]
  },
  {
   "cell_type": "markdown",
   "metadata": {},
   "source": [
    "<h2 style=\"color: #795548; font-family: Arial, sans-serif; text-align: center;\">🚀 Next Steps</h2>\n",
    "\n",
    "<p style=\"font-size: 16px; line-height: 1.6; text-align: center;\">\n",
    "You've successfully written and run your first Python program! 🎉 In the next section, we'll dive deeper into Python syntax and explore variables, data types, and more. Click below to continue:\n",
    "</p>\n",
    "\n",
    "<p style=\"text-align: center; font-size: 16px; margin-top: 20px;\">\n",
    "<a href=\"python-basics.ipynb\" target=\"_blank\" style=\"color: #2196F3; text-decoration: none; font-weight: bold; font-size: 18px;\">\n",
    "👉 Go to: Python Basics.ipynb\n",
    "</a>\n",
    "</p>\n"
   ]
  }
 ],
 "metadata": {
  "kernelspec": {
   "display_name": "Python 3",
   "language": "python",
   "name": "python3"
  },
  "language_info": {
   "codemirror_mode": {
    "name": "ipython",
    "version": 3
   },
   "file_extension": ".py",
   "mimetype": "text/x-python",
   "name": "python",
   "nbconvert_exporter": "python",
   "pygments_lexer": "ipython3",
   "version": "3.12.4"
  }
 },
 "nbformat": 4,
 "nbformat_minor": 2
}
